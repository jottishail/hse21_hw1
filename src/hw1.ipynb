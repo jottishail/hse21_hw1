{
 "cells": [
  {
   "cell_type": "code",
   "execution_count": 1,
   "id": "e355fd93",
   "metadata": {},
   "outputs": [],
   "source": [
    "import re\n",
    "from Bio import SeqIO"
   ]
  },
  {
   "cell_type": "code",
   "execution_count": 2,
   "id": "6c111a79",
   "metadata": {},
   "outputs": [],
   "source": [
    "def show_stats(filename):\n",
    "    lengths = sorted(map(len, SeqIO.parse(filename, 'fasta')), reverse=True)\n",
    "    n = sum(lengths)\n",
    "    csum = 0\n",
    "    for rec_len in lengths:\n",
    "        csum += rec_len\n",
    "        if csum * 2 >= n:\n",
    "            n50 = rec_len\n",
    "            break\n",
    "    print(f'Stats for {filename}')\n",
    "    print(f' - Number of records: {len(lengths)}')\n",
    "    print(f' - Total length: {n}')\n",
    "    print(f' - Longest record: {lengths[0]}')\n",
    "    print(f' - N50: {n50}')\n",
    "    \n",
    "def extract_longest(filename):\n",
    "    return max(SeqIO.parse(filename, 'fasta'), key=len)\n",
    "\n",
    "def show_gap_stats(scaffold, desc):\n",
    "    gaps = re.findall(r'N+', str(scaffold.seq))\n",
    "    gap_count = len(gaps)\n",
    "    total_length = sum(map(len, gaps))\n",
    "    print(f'Gap stats for {desc}')\n",
    "    print(f' - Gap count: {gap_count}')\n",
    "    print(f' - Total gap length: {total_length}')"
   ]
  },
  {
   "cell_type": "code",
   "execution_count": 3,
   "id": "f380c5d9",
   "metadata": {},
   "outputs": [
    {
     "name": "stdout",
     "output_type": "stream",
     "text": [
      "Stats for data/contigs.fasta\n",
      " - Number of records: 607\n",
      " - Total length: 3924917\n",
      " - Longest record: 179307\n",
      " - N50: 53980\n",
      "\n",
      "Stats for data/scaffolds_noClose.fasta\n",
      " - Number of records: 70\n",
      " - Total length: 3873759\n",
      " - Longest record: 3831941\n",
      " - N50: 3831941\n"
     ]
    }
   ],
   "source": [
    "show_stats('data/contigs.fasta')\n",
    "print()\n",
    "show_stats('data/scaffolds_noClose.fasta')"
   ]
  },
  {
   "cell_type": "code",
   "execution_count": 4,
   "id": "dca89601",
   "metadata": {},
   "outputs": [
    {
     "data": {
      "text/plain": [
       "1"
      ]
     },
     "execution_count": 4,
     "metadata": {},
     "output_type": "execute_result"
    }
   ],
   "source": [
    "longest = extract_longest('data/scaffolds_noClose.fasta')\n",
    "longest_closed = extract_longest('data/scaffolds.fasta')\n",
    "SeqIO.write([longest], 'data/longest_noClose.fasta', 'fasta')\n",
    "SeqIO.write([longest_closed], 'data/longest.fasta', 'fasta')"
   ]
  },
  {
   "cell_type": "code",
   "execution_count": 5,
   "id": "6c559f53",
   "metadata": {},
   "outputs": [
    {
     "name": "stdout",
     "output_type": "stream",
     "text": [
      "Gap stats for the longest scaffold\n",
      " - Gap count: 63\n",
      " - Total gap length: 5979\n",
      "\n",
      "Gap stats for the longest scaffold (with closed gaps)\n",
      " - Gap count: 12\n",
      " - Total gap length: 1312\n"
     ]
    }
   ],
   "source": [
    "show_gap_stats(longest, 'the longest scaffold')\n",
    "print()\n",
    "show_gap_stats(longest_closed, 'the longest scaffold (with closed gaps)')"
   ]
  }
 ],
 "metadata": {
  "kernelspec": {
   "display_name": "Python 3 (ipykernel)",
   "language": "python",
   "name": "python3"
  },
  "language_info": {
   "codemirror_mode": {
    "name": "ipython",
    "version": 3
   },
   "file_extension": ".py",
   "mimetype": "text/x-python",
   "name": "python",
   "nbconvert_exporter": "python",
   "pygments_lexer": "ipython3",
   "version": "3.8.10"
  }
 },
 "nbformat": 4,
 "nbformat_minor": 5
}
